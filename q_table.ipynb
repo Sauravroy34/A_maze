{
 "cells": [
  {
   "cell_type": "code",
   "execution_count": 2,
   "metadata": {},
   "outputs": [],
   "source": [
    "import numpy as np\n",
    "import matplotlib.pyplot as plt"
   ]
  },
  {
   "cell_type": "code",
   "execution_count": 3,
   "metadata": {},
   "outputs": [],
   "source": [
    "class Maze():\n",
    "    def __init__(self,maze,start,end):\n",
    "        self.maze = maze\n",
    "        self.maze_height = maze.shape[0]\n",
    "        self.maze_width = maze.shape[1] \n",
    "        self.start_position = start   \n",
    "        self.goal_position = end\n",
    "\n",
    "    def show(self):\n",
    "        plt.figure(figsize=(10,10))\n",
    "\n",
    "        plt.imshow(self.maze,cmap=\"gray\")\n",
    "        plt.text(self.start_position[0], self.start_position[1], 'S', ha='center', va='center', color='red', fontsize=20)\n",
    "        plt.text(self.goal_position[0], self.goal_position[1], 'G', ha='center', va='center', color='green', fontsize=20)\n",
    "        \n",
    "        plt.xticks([]), plt.yticks([])\n",
    "\n",
    "        plt.show()\n",
    "\n",
    "        "
   ]
  },
  {
   "cell_type": "code",
   "execution_count": 4,
   "metadata": {},
   "outputs": [
    {
     "data": {
      "image/png": "[encoded data removed]",
      "text/plain": [
       "<Figure size 720x720 with 1 Axes>"
      ]
     },
     "metadata": {},
     "output_type": "display_data"
    },
    {
     "name": "stdout",
     "output_type": "stream",
     "text": [
      "(10, 10)\n"
     ]
    }
   ],
   "source": [
    "maze_size = (10, 10)\n",
    "\n",
    "# Generate random maze with binary values (0 - open, 1 - wall)\n",
    "maze = np.random.binomial(1, 0.8, size=maze_size)\n",
    "\n",
    "\n",
    "\n",
    "\n",
    "wall = 0\n",
    "path = 1\n",
    "# make sure s and g lies in path(1) and there is some way from s to g so there are some routes form s to g\n",
    "maze_draw = maze\n",
    "\n",
    "\n",
    "maze = Maze(maze_draw,(0,0),(maze_draw.shape[1]-1,maze_draw.shape[0]-1))\n",
    "maze.show()\n",
    "print(maze_draw.shape)"
   ]
  },
  {
   "cell_type": "code",
   "execution_count": 5,
   "metadata": {},
   "outputs": [],
   "source": [
    "actions = [(-1, 0), \n",
    "          (1, 0),   \n",
    "          (0, -1), \n",
    "          (0, 1)]\n",
    " # to make sure to know wheather we are testing or training\n",
    "\n",
    "class QAgent():\n",
    "    def __init__(self,maze,lr =0.1,gamma = 0.9,exp_s = 1,exp_e = 0.01,num = 100):\n",
    "        self.q_table = np.zeros((maze.maze_height,maze.maze_width,4))\n",
    "        self.gamma = gamma\n",
    "        self.lr = lr\n",
    "        self.exp_s = exp_s\n",
    "        self.exp_e = exp_e\n",
    "        self.num = num\n",
    "        self.test = False\n",
    "        \n",
    "\n",
    "    def get_exploration_rate(self,current_episode):\n",
    "  \n",
    " \n",
    "        #exp_rate = self.exp_s * 0.99 ** current_episode\n",
    "        exp_rate = (self.exp_e/self.exp_s) ** (current_episode/self.num)\n",
    "\n",
    "        return exp_rate\n",
    "    def get_action(self,state,current_episode):\n",
    "        exp_rate = self.get_exploration_rate(current_episode)\n",
    "\n",
    "        if np.random.rand() < exp_rate and self.test == False:\n",
    "            return np.random.randint(4) \n",
    "        else:\n",
    "            return np.argmax(self.q_table[state])\n",
    "        \n",
    "    def update_q_table(self, state, action, next_state, reward):\n",
    "\n",
    "        best_next_action = np.argmax(self.q_table[next_state])\n",
    "\n",
    "\n",
    "        current_q_value = self.q_table[state][action]\n",
    "\n",
    "\n",
    "        new_q_value = current_q_value + self.lr * (reward + self.gamma * self.q_table[next_state][best_next_action] - current_q_value)\n",
    "\n",
    "\n",
    "        self.q_table[state][action] = new_q_value  \n",
    "        "
   ]
  },
  {
   "cell_type": "code",
   "execution_count": 6,
   "metadata": {},
   "outputs": [],
   "source": [
    "goal_reward = 100\n",
    "wall_penalty = -10\n",
    "step_penalty = -1"
   ]
  },
  {
   "cell_type": "code",
   "execution_count": 7,
   "metadata": {},
   "outputs": [],
   "source": [
    "def begin(agent,maze,current_episode,train = True):\n",
    "\n",
    "    current_state = maze.start_position\n",
    "    is_done = False\n",
    "    ep_reward = 0\n",
    "    step = 0\n",
    "    path = [current_state]\n",
    "\n",
    "    while not is_done:\n",
    "        action = agent.get_action(current_state,current_episode)\n",
    "\n",
    "        next_state = (current_state[0] + actions[action][0],current_state[1]+actions[action][1])\n",
    "\n",
    "\n",
    "        if next_state[0] <0 or next_state[0] >= maze.maze_height or next_state[1] <0 or next_state[1] >= maze.maze_width or maze.maze[next_state[1]][next_state[0]] == wall:\n",
    "            reward = wall_penalty\n",
    "            next_state = current_state\n",
    "         \n",
    "            \n",
    "        elif next_state == maze.goal_position:\n",
    "            path.append(current_state)\n",
    "            reward = goal_reward\n",
    "            is_done = True\n",
    "\n",
    "            \n",
    "        else:\n",
    "            path.append(current_state)\n",
    "            reward = step_penalty\n",
    "            \n",
    "\n",
    "        ep_reward = reward + ep_reward\n",
    "        step = step +1\n",
    "        if ep_reward <= -1000:\n",
    "            is_done = True\n",
    "\n",
    "        if train ==   True and agent.test == False: # Plotting the data after training is completed True\n",
    "            agent.update_q_table(current_state, action, next_state, reward)\n",
    "\n",
    "        current_state = next_state\n",
    "    return ep_reward, step, path\n",
    "    \n",
    "\n"
   ]
  },
  {
   "cell_type": "code",
   "execution_count": 8,
   "metadata": {},
   "outputs": [],
   "source": [
    "agent = QAgent(maze)\n"
   ]
  },
  {
   "cell_type": "code",
   "execution_count": 9,
   "metadata": {},
   "outputs": [],
   "source": [
    "\n",
    "def train_agent(agent, maze, num_episodes=100):\n",
    "    # Lists to store the data for plotting\n",
    "    episode_rewards = []\n",
    "    episode_steps = []\n",
    "\n",
    "\n",
    "    for episode in range(num_episodes):\n",
    "        episode_reward, episode_step, path = begin(agent, maze, episode, train=True)\n",
    "\n",
    "\n",
    "        episode_rewards.append(episode_reward)\n",
    "        episode_steps.append(episode_step)\n",
    "        if episode%100 ==0:\n",
    "            print(f\"cuurent episode --- {episode}\")\n",
    "            print(f\"current reward {episode_reward}\")\n",
    "\n",
    "\n",
    "    plt.figure(figsize=(10, 5))\n",
    "\n",
    "    plt.subplot(1, 2, 1)\n",
    "    plt.plot(episode_rewards)\n",
    "    plt.xlabel('Episode')\n",
    "    plt.ylabel('Cumulative Reward')\n",
    "    plt.title('Reward per Episode')\n",
    "\n",
    "    average_reward = sum(episode_rewards) / len(episode_rewards)\n",
    "    print(f\"The average reward is: {average_reward}\")\n",
    "\n",
    "    plt.subplot(1, 2, 2)\n",
    "    plt.plot(episode_steps)\n",
    "    plt.xlabel('Episode')\n",
    "    plt.ylabel('Steps Taken')\n",
    "    plt.ylim(0, 100)\n",
    "    plt.title('Steps per Episode')\n",
    "\n",
    "\n",
    "    average_steps = sum(episode_steps) / len(episode_steps)\n",
    "    print(f\"The average steps is: {average_steps}\")\n",
    "\n",
    "    plt.tight_layout()\n",
    "    plt.show()"
   ]
  },
  {
   "cell_type": "code",
   "execution_count": 11,
   "metadata": {},
   "outputs": [
    {
     "name": "stdout",
     "output_type": "stream",
     "text": [
      "cuurent episode --- 0\n",
      "current reward -1003\n",
      "cuurent episode --- 100\n",
      "current reward 83\n",
      "cuurent episode --- 200\n",
      "current reward 83\n",
      "cuurent episode --- 300\n",
      "current reward 83\n",
      "cuurent episode --- 400\n",
      "current reward 83\n",
      "cuurent episode --- 500\n",
      "current reward 83\n",
      "cuurent episode --- 600\n",
      "current reward 83\n",
      "cuurent episode --- 700\n",
      "current reward 83\n",
      "cuurent episode --- 800\n",
      "current reward 83\n",
      "cuurent episode --- 900\n",
      "current reward 83\n",
      "The average reward is: 77.0\n",
      "The average steps is: 19.831\n"
     ]
    },
    {
     "data": {
      "image/png": "[encoded data removed]",
      "text/plain": [
       "<Figure size 720x360 with 2 Axes>"
      ]
     },
     "metadata": {
      "needs_background": "light"
     },
     "output_type": "display_data"
    }
   ],
   "source": [
    "train_agent(agent, maze, num_episodes=1000)"
   ]
  },
  {
   "cell_type": "code",
   "execution_count": 12,
   "metadata": {},
   "outputs": [],
   "source": [
    "def test_agent(agent, maze, num_episodes=1):\n",
    "    agent.test = True\n",
    "    episode_reward, episode_step, path = begin(agent, maze, num_episodes, train=False)\n",
    "\n",
    "    # Print the learned path of the agent\n",
    "    print(\"Learned Path:\")\n",
    "    for row, col in path:\n",
    "        print(f\"({row}, {col})-> \", end='')\n",
    "    print(\"Goal!\")\n",
    "\n",
    "    print(\"Number of steps:\", episode_step)\n",
    "    print(\"Total reward:\", episode_reward)\n",
    "\n",
    "\n",
    "    if plt.gcf().get_axes():\n",
    "        plt.cla()\n",
    "\n",
    "\n",
    "    plt.figure(figsize=(5,5))\n",
    "    plt.imshow(maze.maze, cmap='gray')\n",
    "\n",
    "    # Mark the start position (red 'S') and goal position (green 'G') in the maze\n",
    "    plt.text(maze.start_position[0], maze.start_position[1], 'S', ha='center', va='center', color='red', fontsize=20)\n",
    "    plt.text(maze.goal_position[0], maze.goal_position[1], 'G', ha='center', va='center', color='green', fontsize=20)\n",
    "\n",
    "    # Mark the agent's path with blue '#' symbols\n",
    "    for position in path:\n",
    "        plt.text(position[0], position[1], \"#\", va='center', color='blue', fontsize=20)\n",
    "\n",
    "    \n",
    "    plt.xticks([]), plt.yticks([])\n",
    "    plt.grid(color='black', linewidth=2)\n",
    "    plt.show()\n",
    "\n",
    "    return episode_step, episode_reward"
   ]
  },
  {
   "cell_type": "code",
   "execution_count": 13,
   "metadata": {},
   "outputs": [
    {
     "name": "stdout",
     "output_type": "stream",
     "text": [
      "Learned Path:\n",
      "(0, 0)-> (0, 0)-> (0, 1)-> (1, 1)-> (2, 1)-> (3, 1)-> (4, 1)-> (4, 2)-> (4, 3)-> (4, 4)-> (5, 4)-> (6, 4)-> (6, 5)-> (7, 5)-> (7, 6)-> (7, 7)-> (7, 8)-> (7, 9)-> (8, 9)-> Goal!\n",
      "Number of steps: 18\n",
      "Total reward: 83\n"
     ]
    },
    {
     "data": {
      "text/plain": [
       "<Figure size 432x288 with 0 Axes>"
      ]
     },
     "metadata": {},
     "output_type": "display_data"
    },
    {
     "data": {
      "image/png": "[encoded data removed]",
      "text/plain": [
       "<Figure size 360x360 with 1 Axes>"
      ]
     },
     "metadata": {},
     "output_type": "display_data"
    },
    {
     "data": {
      "text/plain": [
       "(18, 83)"
      ]
     },
     "execution_count": 13,
     "metadata": {},
     "output_type": "execute_result"
    }
   ],
   "source": [
    "test_agent(agent, maze, num_episodes=1)"
   ]
  }
 ],
 "metadata": {
  "kernelspec": {
   "display_name": "Python 3",
   "language": "python",
   "name": "python3"
  },
  "language_info": {
   "codemirror_mode": {
    "name": "ipython",
    "version": 3
   },
   "file_extension": ".py",
   "mimetype": "text/x-python",
   "name": "python",
   "nbconvert_exporter": "python",
   "pygments_lexer": "ipython3",
   "version": "3.10.12"
  }
 },
 "nbformat": 4,
 "nbformat_minor": 2
}
